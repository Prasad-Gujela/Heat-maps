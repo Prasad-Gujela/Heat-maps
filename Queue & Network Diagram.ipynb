{
 "cells": [
  {
   "cell_type": "markdown",
   "metadata": {},
   "source": [
    "# Q1. \n",
    "What is the Big-O performance of this code?"
   ]
  },
  {
   "cell_type": "markdown",
   "metadata": {},
   "source": [
    "i=n\n",
    "k = 0\n",
    "while i > 0:\n",
    "    k=k+2\n",
    "    i = i // 2 \n",
    "print k"
   ]
  },
  {
   "cell_type": "code",
   "execution_count": 265,
   "metadata": {
    "scrolled": true
   },
   "outputs": [
    {
     "name": "stdout",
     "output_type": "stream",
     "text": [
      "[  3.   5.   7.   7.   9.   9.   9.   9.  11.  11.  11.  11.  11.  11.  11.\n",
      "  11.  13.  13.  13.  13.  13.  13.  13.  13.  13.  13.  13.  13.  13.  13.\n",
      "  13.  13.  15.  15.  15.  15.  15.  15.  15.  15.  15.  15.  15.  15.  15.\n",
      "  15.  15.  15.  15.  15.  15.  15.  15.  15.  15.  15.  15.  15.  15.  15.\n",
      "  15.  15.  15.  15.  17.  17.  17.  17.  17.  17.  17.  17.  17.  17.  17.\n",
      "  17.  17.  17.  17.  17.  17.  17.  17.  17.  17.  17.  17.  17.  17.  17.\n",
      "  17.  17.  17.  17.  17.  17.  17.  17.  17.  17.  17.  17.  17.  17.  17.\n",
      "  17.  17.  17.  17.  17.  17.  17.  17.  17.  17.  17.  17.  17.  17.  17.\n",
      "  17.  17.  17.  17.  17.  17.  17.  17.  19.  19.  19.  19.  19.  19.  19.\n",
      "  19.  19.  19.  19.  19.  19.  19.  19.  19.  19.  19.  19.  19.  19.  19.\n",
      "  19.  19.  19.  19.  19.  19.  19.  19.  19.  19.  19.  19.  19.  19.  19.\n",
      "  19.  19.  19.  19.  19.  19.  19.  19.  19.  19.  19.  19.  19.  19.  19.\n",
      "  19.  19.  19.  19.  19.  19.  19.  19.  19.  19.  19.  19.  19.  19.  19.\n",
      "  19.  19.  19.  19.  19.  19.  19.  19.  19.  19.  19.  19.  19.  19.  19.\n",
      "  19.  19.  19.  19.  19.  19.  19.  19.  19.  19.  19.  19.  19.  19.  19.\n",
      "  19.  19.  19.  19.  19.  19.  19.  19.  19.  19.  19.  19.  19.  19.  19.\n",
      "  19.  19.  19.  19.  19.  19.  19.  19.  19.  19.  19.  19.  19.  19.  19.\n",
      "  19.  21.  21.  21.  21.  21.  21.  21.  21.  21.  21.  21.  21.  21.  21.\n",
      "  21.  21.  21.  21.  21.  21.  21.  21.  21.  21.  21.  21.  21.  21.  21.\n",
      "  21.  21.  21.  21.  21.  21.  21.  21.  21.  21.  21.  21.  21.  21.  21.\n",
      "  21.  21.  21.  21.  21.  21.  21.  21.  21.  21.  21.  21.  21.  21.  21.\n",
      "  21.  21.  21.  21.  21.  21.  21.  21.  21.  21.  21.  21.  21.  21.  21.\n",
      "  21.  21.  21.  21.  21.  21.  21.  21.  21.  21.  21.  21.  21.  21.  21.\n",
      "  21.  21.  21.  21.  21.  21.  21.  21.  21.  21.  21.  21.  21.  21.  21.\n",
      "  21.  21.  21.  21.  21.  21.  21.  21.  21.  21.  21.  21.  21.  21.  21.\n",
      "  21.  21.  21.  21.  21.  21.  21.  21.  21.  21.  21.  21.  21.  21.  21.\n",
      "  21.  21.  21.  21.  21.  21.  21.  21.  21.  21.  21.  21.  21.  21.  21.\n",
      "  21.  21.  21.  21.  21.  21.  21.  21.  21.  21.  21.  21.  21.  21.  21.\n",
      "  21.  21.  21.  21.  21.  21.  21.  21.  21.  21.  21.  21.  21.  21.  21.\n",
      "  21.  21.  21.  21.  21.  21.  21.  21.  21.  21.  21.  21.  21.  21.  21.\n",
      "  21.  21.  21.  21.  21.  21.  21.  21.  21.  21.  21.  21.  21.  21.  21.\n",
      "  21.  21.  21.  21.  21.  21.  21.  21.  21.  21.  21.  21.  21.  21.  21.\n",
      "  21.  21.  21.  21.  21.  21.  21.  21.  21.  21.  21.  21.  21.  21.  21.\n",
      "  21.  21.  21.  21.  21.  21.  21.  21.  21.  21.  21.  21.  21.  21.  21.\n",
      "  21.  21.  23.  23.  23.  23.  23.  23.  23.  23.  23.  23.  23.  23.  23.\n",
      "  23.  23.  23.  23.  23.  23.  23.  23.  23.  23.  23.  23.  23.  23.  23.\n",
      "  23.  23.  23.  23.  23.  23.  23.  23.  23.  23.  23.  23.  23.  23.  23.\n",
      "  23.  23.  23.  23.  23.  23.  23.  23.  23.  23.  23.  23.  23.  23.  23.\n",
      "  23.  23.  23.  23.  23.  23.  23.  23.  23.  23.  23.  23.  23.  23.  23.\n",
      "  23.  23.  23.  23.  23.  23.  23.  23.  23.  23.  23.  23.  23.  23.  23.\n",
      "  23.  23.  23.  23.  23.  23.  23.  23.  23.  23.  23.  23.  23.  23.  23.\n",
      "  23.  23.  23.  23.  23.  23.  23.  23.  23.  23.  23.  23.  23.  23.  23.\n",
      "  23.  23.  23.  23.  23.  23.  23.  23.  23.  23.  23.  23.  23.  23.  23.\n",
      "  23.  23.  23.  23.  23.  23.  23.  23.  23.  23.  23.  23.  23.  23.  23.\n",
      "  23.  23.  23.  23.  23.  23.  23.  23.  23.  23.  23.  23.  23.  23.  23.\n",
      "  23.  23.  23.  23.  23.  23.  23.  23.  23.  23.  23.  23.  23.  23.  23.\n",
      "  23.  23.  23.  23.  23.  23.  23.  23.  23.  23.  23.  23.  23.  23.  23.\n",
      "  23.  23.  23.  23.  23.  23.  23.  23.  23.  23.  23.  23.  23.  23.  23.\n",
      "  23.  23.  23.  23.  23.  23.  23.  23.  23.  23.  23.  23.  23.  23.  23.\n",
      "  23.  23.  23.  23.  23.  23.  23.  23.  23.  23.  23.  23.  23.  23.  23.\n",
      "  23.  23.  23.  23.  23.  23.  23.  23.  23.  23.  23.  23.  23.  23.  23.\n",
      "  23.  23.  23.  23.  23.  23.  23.  23.  23.  23.  23.  23.  23.  23.  23.\n",
      "  23.  23.  23.  23.  23.  23.  23.  23.  23.  23.  23.  23.  23.  23.  23.\n",
      "  23.  23.  23.  23.  23.]\n"
     ]
    }
   ],
   "source": [
    "# Check the number of time a loop is executed\n",
    "import numpy as np\n",
    "j = np.zeros(800)\n",
    "\n",
    "for n in range(800):i=n\n",
    "k = 0\n",
    "while i > 0:\n",
    "k=k+2\n",
    "i = i // 2 \n",
    "print k\n",
    "    i = n\n",
    "    k = 0   ## need to intialize k to run the program\n",
    "    while i > 0:\n",
    "        k=k+2\n",
    "        i = i // 2 \n",
    "        j[n] += 2\n",
    "    \n",
    "j = j + 3   ## adding 3 for 'i = n', 'k = 0', 'print k' commands outside loop\n",
    "print j"
   ]
  },
  {
   "cell_type": "code",
   "execution_count": 269,
   "metadata": {},
   "outputs": [
    {
     "data": {
      "image/png": "[encoded data removed]",
      "text/plain": [
       "<matplotlib.figure.Figure at 0x110fceb90>"
      ]
     },
     "metadata": {},
     "output_type": "display_data"
    }
   ],
   "source": [
    "import matplotlib.pyplot as plt\n",
    "plt.plot(j+3)  # plot z+3 against n\n",
    "plt.yscale('log')\n",
    "plt.title(\"Number of Operations for program\")\n",
    "plt.xlabel(\"Number of time loop is executed\")\n",
    "plt.ylabel(\"Number of operations\")\n",
    "plt.show()"
   ]
  },
  {
   "cell_type": "markdown",
   "metadata": {},
   "source": [
    "The output of (z + 3) and its plot against n values show that the graph follows a logarithmic scale. The loop gets executed with the dominant function of log n to base 2. Hence the Big-O performance of this code is log n to base 2."
   ]
  },
  {
   "cell_type": "markdown",
   "metadata": {},
   "source": [
    "# Q2. \n",
    "Simulate a grocery check-out counter with three servers and determine the average waiting time that customers spend in line for a given set of parameters. Specifically the system may be characterized by three variables: x, p, T.\n",
    "i. Each minute there is x% chance that a customer arrives.\n",
    "ii. It takes one server p minutes to process one customer.\n",
    "iii. System is initially empty and is run for T minutes.\n",
    "All customers join one line in front of the servers. When a server becomes available,\n",
    "customer at the front of the line goes to that server. You may use the Queue structure\n",
    "discussed in class, to keep track of the queue of customers."
   ]
  },
  {
   "cell_type": "code",
   "execution_count": 275,
   "metadata": {
    "collapsed": true
   },
   "outputs": [],
   "source": [
    "from random import randint\n",
    "import numpy as np\n",
    "\n",
    "class Grocery:\n",
    "    \n",
    "    \n",
    "    def __init__(self, x, p, T):  \n",
    "        \n",
    "        self.entry_list = []       # list of all the customers entering at any time\n",
    "        self.cust_queue = []       # list of all the customers currently in the queue\n",
    "        self.server_que = [1,2,3]  # three counter choices at server\n",
    "        self.start_time_list =[]   # start time for any customer\n",
    "        self.end_time_list=[]      # end time for any customer   \n",
    "        self.cashier_queue = [0]*3 # cashier queue for 3 counter\n",
    "###  Time for every customer\n",
    "\n",
    "\n",
    "        for i in T:\n",
    "            \n",
    "    \n",
    "            if (i in self.end_time_list) & (len(self.server_que) < 3):  # if there is no element in server list and \n",
    "                self.server_que.append(len(self.server_que)+1)          # if the customer has left assign, put value in server list for missing value\n",
    "    \n",
    "            if randint(1,100) <= x:              # get any random data in the range 1 to 100, check if that value is greater  \n",
    "                self.entry_list.append(i)       # than probability that a customer arrives (x).\n",
    "                self.cust_queue.append(i)       # append that time to list of all customers and those currently in queue\n",
    "    \n",
    "            if (len(self.cust_queue)!=0) & (len(self.server_que)>0):   # if there is a customer in my current list and there is some place in my server list\n",
    "                self.server_que.pop()                                  # remove the element from the server list to show it as busy. The element removed \n",
    "                self.start_time_list.append(i)                         # record start time \n",
    "                self.end_time_list.append(i+p)                         # record end time after adding processing time p\n",
    "                del self.cust_queue[0]                                 # remove that customer from the current list of customer\n",
    "                 \n",
    "            self.waiting_time = [(i - j) for i, j in zip(self.end_time_list, self.entry_list)]  # find the element wise difference\n",
    "            \n",
    "    def ArrivedStoreAt(self):\n",
    "        return self.entry_list\n",
    "                                \n",
    "    def joinedQueueAt(self):\n",
    "        return self.start_time_list\n",
    "    \n",
    "    def leftQueueAt(self):\n",
    "        return self.end_time_list\n",
    "    \n",
    "    def timeWaited(self):\n",
    "        return (self.waiting_time)\n",
    "    \n",
    "    def waiting(self):\n",
    "        return (sum(self.end_time_list) - sum(self.entry_list)) / float(len(self.entry_list)) # return average waiting time"
   ]
  },
  {
   "cell_type": "code",
   "execution_count": 276,
   "metadata": {
    "collapsed": true
   },
   "outputs": [],
   "source": [
    "# passing the parameter\n",
    "instance= Grocery(50, 5, range(100))"
   ]
  },
  {
   "cell_type": "code",
   "execution_count": 277,
   "metadata": {},
   "outputs": [
    {
     "name": "stdout",
     "output_type": "stream",
     "text": [
      "[0, 3, 4, 5, 8, 9, 11, 13, 14, 16, 18, 19, 21, 23, 24, 26, 28, 29, 31, 33, 34, 36, 38, 39, 41, 43, 44, 46, 48, 49, 60, 62, 63, 65, 67, 68, 70, 72, 73, 75, 77, 78, 80, 82, 83, 85, 87, 88, 90, 92, 93, 96, 99]\n"
     ]
    }
   ],
   "source": [
    "# list of people who joined queue at a certain time\n",
    "print instance.joinedQueueAt()"
   ]
  },
  {
   "cell_type": "code",
   "execution_count": 278,
   "metadata": {},
   "outputs": [
    {
     "name": "stdout",
     "output_type": "stream",
     "text": [
      "[5, 8, 9, 10, 13, 14, 16, 18, 19, 21, 23, 24, 26, 28, 29, 31, 33, 34, 36, 38, 39, 41, 43, 44, 46, 48, 49, 51, 53, 54, 65, 67, 68, 70, 72, 73, 75, 77, 78, 80, 82, 83, 85, 87, 88, 90, 92, 93, 95, 97, 98, 101, 104]\n"
     ]
    }
   ],
   "source": [
    "# list of people who left the queue at a certain time. Assuming those people who entered before closing the store where processed\n",
    "print instance.leftQueueAt()"
   ]
  },
  {
   "cell_type": "code",
   "execution_count": 279,
   "metadata": {},
   "outputs": [
    {
     "name": "stdout",
     "output_type": "stream",
     "text": [
      "[0, 3, 4, 5, 8, 9, 11, 12, 14, 15, 16, 17, 18, 19, 20, 21, 22, 24, 29, 30, 32, 33, 37, 39, 40, 42, 43, 44, 45, 47, 60, 62, 63, 64, 65, 66, 70, 71, 72, 73, 74, 75, 77, 78, 81, 83, 84, 87, 89, 90, 93, 96, 99]\n"
     ]
    }
   ],
   "source": [
    "# time at which customers entered the store\n",
    "print instance.ArrivedStoreAt() "
   ]
  },
  {
   "cell_type": "code",
   "execution_count": 280,
   "metadata": {},
   "outputs": [
    {
     "data": {
      "text/plain": [
       "53"
      ]
     },
     "execution_count": 280,
     "metadata": {},
     "output_type": "execute_result"
    }
   ],
   "source": [
    "len(instance.leftQueueAt())"
   ]
  },
  {
   "cell_type": "code",
   "execution_count": 281,
   "metadata": {},
   "outputs": [
    {
     "name": "stdout",
     "output_type": "stream",
     "text": [
      "[5, 5, 5, 5, 5, 5, 5, 6, 5, 6, 7, 7, 8, 9, 9, 10, 11, 10, 7, 8, 7, 8, 6, 5, 6, 6, 6, 7, 8, 7, 5, 5, 5, 6, 7, 7, 5, 6, 6, 7, 8, 8, 8, 9, 7, 7, 8, 6, 6, 7, 5, 5, 5]\n"
     ]
    }
   ],
   "source": [
    "# waiting time for all customers who entered store\n",
    "print instance.timeWaited()"
   ]
  },
  {
   "cell_type": "code",
   "execution_count": 282,
   "metadata": {},
   "outputs": [
    {
     "name": "stdout",
     "output_type": "stream",
     "text": [
      "6.64150943396\n"
     ]
    }
   ],
   "source": [
    "# Average waiting time for a customer\n",
    "print instance.waiting()"
   ]
  },
  {
   "cell_type": "markdown",
   "metadata": {},
   "source": [
    "# Q3. a\n",
    "Using ‘PADGM.GraphML’ data, find density of the network."
   ]
  },
  {
   "cell_type": "code",
   "execution_count": 283,
   "metadata": {},
   "outputs": [
    {
     "name": "stdout",
     "output_type": "stream",
     "text": [
      "0.125\n"
     ]
    }
   ],
   "source": [
    "# Density of network\n",
    "\n",
    "import networkx as nx\n",
    "x = nx.read_graphml(\"PADGM.GraphML\")\n",
    "density = nx.density(x)\n",
    "print density"
   ]
  },
  {
   "cell_type": "code",
   "execution_count": 15,
   "metadata": {},
   "outputs": [
    {
     "data": {
      "text/plain": [
       "[0, 1, 4, 0, 0, 1, 5, 1, 0, 0, 4, 3, 3, 2, 2, 4]"
      ]
     },
     "execution_count": 15,
     "metadata": {},
     "output_type": "execute_result"
    }
   ],
   "source": [
    "nx.degree(x).values()  # gives the degree count at each nodes"
   ]
  },
  {
   "cell_type": "markdown",
   "metadata": {},
   "source": [
    "# Q3. b\n",
    "Plot degree distribution of the network."
   ]
  },
  {
   "cell_type": "code",
   "execution_count": 182,
   "metadata": {},
   "outputs": [
    {
     "data": {
      "image/png": "[encoded data removed]",
      "text/plain": [
       "<matplotlib.figure.Figure at 0x111443590>"
      ]
     },
     "metadata": {},
     "output_type": "display_data"
    }
   ],
   "source": [
    "# plot the histogram\n",
    "\n",
    "import matplotlib.pyplot as plt\n",
    "plt.hist(nx.degree(x).values(), bins=20, range=(0, 6))   # plot histogram with above function\n",
    "plt.xlabel('Degree')\n",
    "plt.ylabel('Frequency of nodes')\n",
    "plt.show()"
   ]
  },
  {
   "cell_type": "markdown",
   "metadata": {},
   "source": [
    "Figure above shows the degree distribution"
   ]
  },
  {
   "cell_type": "code",
   "execution_count": 16,
   "metadata": {},
   "outputs": [
    {
     "data": {
      "image/png": "[encoded data removed]",
      "text/plain": [
       "<matplotlib.figure.Figure at 0x1050acc90>"
      ]
     },
     "metadata": {},
     "output_type": "display_data"
    }
   ],
   "source": [
    "# Network diagram\n",
    "\n",
    "import networkx as nx\n",
    "import matplotlib.pyplot as plt\n",
    "plt.axes([1,1,1,1])\n",
    "Gcc = sorted(nx.connected_component_subgraphs(x), key = len, reverse = True)[0] # define parameters\n",
    "pos = nx.spring_layout(Gcc)\n",
    "plt.axis('off')\n",
    "nx.draw_networkx_nodes(Gcc, pos, node_size = 20)   # draw the nodes\n",
    "nx.draw_networkx_edges(Gcc, pos, alpha = 0.4)      # draw the edges\n",
    "plt.show()"
   ]
  },
  {
   "cell_type": "markdown",
   "metadata": {},
   "source": [
    "Added a network diagram"
   ]
  }
 ],
 "metadata": {
  "kernelspec": {
   "display_name": "Python 2",
   "language": "python",
   "name": "python2"
  },
  "language_info": {
   "codemirror_mode": {
    "name": "ipython",
    "version": 2
   },
   "file_extension": ".py",
   "mimetype": "text/x-python",
   "name": "python",
   "nbconvert_exporter": "python",
   "pygments_lexer": "ipython2",
   "version": "2.7.13"
  }
 },
 "nbformat": 4,
 "nbformat_minor": 2
}
