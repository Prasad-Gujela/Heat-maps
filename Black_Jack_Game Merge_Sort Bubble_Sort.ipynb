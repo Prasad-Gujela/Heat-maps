{
 "cells": [
  {
   "cell_type": "markdown",
   "metadata": {},
   "source": [
    "# Q1\n",
    "Write a recursive function to compute and return the factorial of a number n."
   ]
  },
  {
   "cell_type": "markdown",
   "metadata": {
    "collapsed": true
   },
   "source": [
    "Factorial calculation using recursive function"
   ]
  },
  {
   "cell_type": "code",
   "execution_count": 2,
   "metadata": {
    "collapsed": true
   },
   "outputs": [],
   "source": [
    "def calc_fact(num):    # function to calculate factorial\n",
    "    if num == 1:\n",
    "        return num\n",
    "    else:\n",
    "        return num * calc_fact(num-1)\n",
    "    \n",
    "def Factorial():       # Main function\n",
    "    num = raw_input(\"Enter a number: \")\n",
    "    try:\n",
    "        num = float(num)\n",
    "    except ValueError:                     # check if number entered is integer or not\n",
    "        print \"That's not an integer!\"\n",
    "        return Factorial()\n",
    "    \n",
    "    while True:\n",
    "        if (num <=0) or (num != int(num)): # check if the number is a positive integer\n",
    "            print \"Error!, please enter positive integer!\"\n",
    "            return Factorial()\n",
    "            continue\n",
    "        else:\n",
    "            break\n",
    "            \n",
    "    a = calc_fact(num)\n",
    "    return int(a)"
   ]
  },
  {
   "cell_type": "code",
   "execution_count": 3,
   "metadata": {},
   "outputs": [
    {
     "name": "stdout",
     "output_type": "stream",
     "text": [
      "Enter a number: -4\n",
      "Error!, please enter positive integer!\n",
      "Enter a number: 6\n"
     ]
    },
    {
     "data": {
      "text/plain": [
       "720"
      ]
     },
     "execution_count": 3,
     "metadata": {},
     "output_type": "execute_result"
    }
   ],
   "source": [
    "Factorial()"
   ]
  },
  {
   "cell_type": "markdown",
   "metadata": {},
   "source": [
    "# Q2\n",
    "Given a list of numbers in a random order, write an algorithm that works in 𝑂(𝑛 𝑙𝑜𝑔(𝑛)) to find and return the kth smallest number in the list.\n",
    " Your algorithm should be in a function that takes two inputs:\n",
    "i. someList - a list of numbers\n",
    "ii. k – kth smallest number\n",
    " Your function should make sure that finding kth element is well defined for a given input\n",
    "list (i.e., if a list has five elements asking for 7th smallest element should return an error).\n",
    " Your function should return the kth smallest element"
   ]
  },
  {
   "cell_type": "markdown",
   "metadata": {},
   "source": [
    "O(nlogn) suggests that the function code is linear logarithmic. We know that, for a list of length n, if the partition occurs in the middle of the list, there will be log(n) divisions. The merge function is linear in atleast the total size of two lists: in the worst case every element must be looked at for the correct ordering. This algorithm matches the description for merge sort. The algorithm for which is as below:"
   ]
  },
  {
   "cell_type": "code",
   "execution_count": 6,
   "metadata": {},
   "outputs": [],
   "source": [
    "def kthSmallist(test_list, kth):\n",
    "\n",
    "    def mergeSort(alist):\n",
    "\n",
    "        if len(alist)>1:\n",
    "            mid = len(alist)//2\n",
    "            lefthalf = alist[:mid]\n",
    "            righthalf = alist[mid:]\n",
    "\n",
    "            mergeSort(lefthalf)\n",
    "            mergeSort(righthalf)\n",
    "\n",
    "            i=0\n",
    "            j=0\n",
    "            k=0\n",
    "            while i < len(lefthalf) and j < len(righthalf):\n",
    "                if lefthalf[i] < righthalf[j]:\n",
    "                    alist[k]=lefthalf[i]\n",
    "                    i=i+1\n",
    "                else:\n",
    "                    alist[k]=righthalf[j]\n",
    "                    j=j+1\n",
    "                k=k+1\n",
    "\n",
    "            while i < len(lefthalf):\n",
    "                alist[k]=lefthalf[i]\n",
    "                i=i+1\n",
    "                k=k+1\n",
    "\n",
    "            while j < len(righthalf):\n",
    "                alist[k]=righthalf[j]\n",
    "                j=j+1\n",
    "                k=k+1\n",
    "        \n",
    "        return alist\n",
    "        \n",
    "    a = mergeSort(test_list)\n",
    "    \n",
    "    return a, a[kth-1]"
   ]
  },
  {
   "cell_type": "code",
   "execution_count": 7,
   "metadata": {},
   "outputs": [
    {
     "data": {
      "text/plain": [
       "([17, 20, 26, 31, 44, 54, 55, 77, 93], 26)"
      ]
     },
     "execution_count": 7,
     "metadata": {},
     "output_type": "execute_result"
    }
   ],
   "source": [
    "alist = [54,26,93,17,77,31,44,55,20]\n",
    "kthSmallist(alist,3)"
   ]
  },
  {
   "cell_type": "markdown",
   "metadata": {},
   "source": [
    "# Q3\n",
    "Compare performance of bubble sort, and np.sort algorithms. Specifically plot the time it takes to sort N randomly generated numbers as a function of N for the three approaches (you will need to create bubble sort function, but can use the np.sort directly from numpy)"
   ]
  },
  {
   "cell_type": "code",
   "execution_count": null,
   "metadata": {},
   "outputs": [
    {
     "name": "stdout",
     "output_type": "stream",
     "text": [
      "Enter sample size to be tested: 1000\n"
     ]
    }
   ],
   "source": [
    "from random import randint\n",
    "import random\n",
    "import numpy as np\n",
    "import pandas as pd\n",
    "import matplotlib.pylab as plt\n",
    "import seaborn as sns\n",
    "import pylab\n",
    "%matplotlib inline\n",
    "import copy\n",
    "import time\n",
    "\n",
    "def bubblesort(alist):                            # Bubble sort algorithm\n",
    "    i = 0\n",
    "    for i in range(len(alist)-1): \n",
    "        for j in range(len(alist)-i-1):\n",
    "            if (alist[j]>alist[j+1]):\n",
    "                temp = alist[j+1]\n",
    "                alist[j+1] = copy.deepcopy(alist[j])\n",
    "                alist[j] = temp  \n",
    "    return alist\n",
    "\n",
    "def numpysort(alist):                             # Numpy sort algorithm\n",
    "    np_sorted = np.sort(alist)\n",
    "    return np_sorted\n",
    "\n",
    "def bubbleTime(initial):                          # Calculating time for Bubble sort\n",
    "    start_b= time.clock()\n",
    "    bubblesort(initial)\n",
    "    end_b = time.clock()\n",
    "    b_time = end_b - start_b\n",
    "    return b_time\n",
    "\n",
    "def numpyTime(initial):                           # Calculating time for Numpy sort\n",
    "    start_n = time.clock()\n",
    "    numpysort(initial)\n",
    "    end_n = time.clock()\n",
    "    n_time = end_n - start_n\n",
    "    return n_time\n",
    "\n",
    "b=[]\n",
    "n=[]\n",
    "N = input (\"Enter sample size to be tested: \")\n",
    "for i in range(N):\n",
    "    #N = 200\n",
    "    initial = []\n",
    "    s = random.sample(range(N),i)                 # Generate random values for each value from 1 to N\n",
    "    t= bubbleTime(s)\n",
    "    p= numpyTime(s)\n",
    "    b.append(t)                                   # Bubble time values\n",
    "    n.append(p)                                   # Numpy time values\n",
    "    \n",
    "# Plot the Comparison chart\n",
    "    \n",
    "sns.set_style(\"whitegrid\")\n",
    "x = range(N)\n",
    "fig, ax = plt.subplots(figsize = (10,5))\n",
    "ax.plot(x,b, label = \"Bubble plot\", color = \"blue\")\n",
    "ax.plot(x,n, label = \"np.sort plot\", color = \"red\")\n",
    "ax.set_title(\"Performance Comparison: Bubble sort vs Numpy sort\", fontsize = 15)\n",
    "plt.legend(loc=\"upper left\")\n",
    "plt.show()   "
   ]
  },
  {
   "cell_type": "markdown",
   "metadata": {},
   "source": [
    "The plot values show, numpy sort has very low time than bubble sort"
   ]
  },
  {
   "cell_type": "markdown",
   "metadata": {},
   "source": [
    "# Q4\n",
    "In Blackjack, the dealer must take cards according to the following set of rules:\n",
    "i. Take cards until the sum is at least 17\n",
    "ii. If the hand contains an ace, then\n",
    " Ace will be counted as 11 when that results in a total between 17 and 21 (inclusive) and Ace will be counted as 1 otherwise. [For example: ‘A6’-> 17, ‘88A’->17, ‘8A’->19]\n",
    "Dealer busts if he goes over 21.\n",
    "Card values: All face cars count as 10, all numeric cars count as their numeric value. Ace is counted as 1 or 11.\n",
    "Dealer starts out with one card showing. Write a program to estimate dealer’s bust probability for each possible starting card value. In other words, your program has to run multiple simulations for each possible starting value (Ace-10). Output results as a bar plot with card values on the x- axis and probability of dealer going bust on the y-axis."
   ]
  },
  {
   "cell_type": "code",
   "execution_count": 1,
   "metadata": {},
   "outputs": [
    {
     "data": {
      "text/plain": [
       "<matplotlib.text.Text at 0x10c912910>"
      ]
     },
     "execution_count": 1,
     "metadata": {},
     "output_type": "execute_result"
    },
    {
     "data": {
      "image/png": "[encoded data removed]",
      "text/plain": [
       "<matplotlib.figure.Figure at 0x10a309f90>"
      ]
     },
     "metadata": {},
     "output_type": "display_data"
    }
   ],
   "source": [
    "import random\n",
    "import numpy as np\n",
    "import pandas as pd\n",
    "import matplotlib.pylab as plt\n",
    "import seaborn as sns\n",
    "import pylab\n",
    "%matplotlib inline\n",
    "deck = [1,2,3,4,5,6,7,8,9,10,10,10,10]\n",
    "\n",
    "def FindDealerProbGraph(first_card, iteration):\n",
    "    \n",
    "    burst = 0\n",
    "    \n",
    "    for i in range(int(iteration)):\n",
    "\n",
    "    \n",
    "        dealer_card = []\n",
    "        dealer_card.append(int(first_card))\n",
    "        dealer_sum = sum(dealer_card)\n",
    "    \n",
    "        while dealer_sum < 17:\n",
    "        \n",
    "            next_card = np.random.choice(deck)\n",
    "            dealer_card.append(next_card)\n",
    "            dealer_sum = dealer_sum + next_card\n",
    "            if (dealer_sum >= 7) and (dealer_sum <=11):\n",
    "                if 1 in dealer_card:\n",
    "                    dealer_sum = dealer_sum + 10\n",
    "            if dealer_sum > 21:\n",
    "                burst = burst + 1\n",
    " \n",
    "    return (float(burst) / len(range(int(iteration))))\n",
    "\n",
    "first_card = range(11)[1:11]\n",
    "prob_list = []\n",
    "\n",
    "for i in first_card:\n",
    "    \n",
    "    prob = FindDealerProbGraph(i, 10000)\n",
    "    prob_list.append(prob)\n",
    "\n",
    "fig,ax = plt.subplots()\n",
    "\n",
    "sns.barplot(x=first_card, y=prob_list, color = \"blue\")\n",
    "ax.set_ylim(0,1)\n",
    "ax.set_title(\"Probability distribution by the first card\")\n",
    "ax.set_ylabel(\"Probability (0.0 - 1.0)\")"
   ]
  },
  {
   "cell_type": "markdown",
   "metadata": {},
   "source": [
    "The graph shows that the chance of dealer going bust is highest when the first card is 6 and lowest when the first card is A. There is a clear trend."
   ]
  }
 ],
 "metadata": {
  "kernelspec": {
   "display_name": "Python 2",
   "language": "python",
   "name": "python2"
  },
  "language_info": {
   "codemirror_mode": {
    "name": "ipython",
    "version": 2
   },
   "file_extension": ".py",
   "mimetype": "text/x-python",
   "name": "python",
   "nbconvert_exporter": "python",
   "pygments_lexer": "ipython2",
   "version": "2.7.13"
  }
 },
 "nbformat": 4,
 "nbformat_minor": 2
}
